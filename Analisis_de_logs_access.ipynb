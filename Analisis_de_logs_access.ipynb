{
  "nbformat": 4,
  "nbformat_minor": 0,
  "metadata": {
    "colab": {
      "name": "Analisis_de_logs_access.ipynb",
      "provenance": [],
      "toc_visible": true,
      "include_colab_link": true
    },
    "kernelspec": {
      "name": "python3",
      "display_name": "Python 3"
    }
  },
  "cells": [
    {
      "cell_type": "markdown",
      "metadata": {
        "id": "view-in-github",
        "colab_type": "text"
      },
      "source": [
        "<a href=\"https://colab.research.google.com/github/juanferrgiraldo/big-data/blob/master/Analisis_de_logs_access.ipynb\" target=\"_parent\"><img src=\"https://colab.research.google.com/assets/colab-badge.svg\" alt=\"Open In Colab\"/></a>"
      ]
    },
    {
      "cell_type": "markdown",
      "metadata": {
        "id": "GgMWROkXlZnf",
        "colab_type": "text"
      },
      "source": [
        "#Solución análisis de log de access"
      ]
    },
    {
      "cell_type": "code",
      "metadata": {
        "id": "MavMVbcolr0N",
        "colab_type": "code",
        "outputId": "7bc2ef4a-7f8e-4a0a-f70d-92a7e14fe1c1",
        "colab": {
          "base_uri": "https://localhost:8080/",
          "height": 122
        }
      },
      "source": [
        "!pip install python-nvd3\n",
        "from nvd3 import multiBarChart\n",
        "from nvd3 import scatterChart\n",
        "from IPython.core.display import HTML\n",
        "import matplotlib.pyplot as plt"
      ],
      "execution_count": 0,
      "outputs": [
        {
          "output_type": "stream",
          "text": [
            "Requirement already satisfied: python-nvd3 in /usr/local/lib/python3.6/dist-packages (0.15.0)\n",
            "Requirement already satisfied: python-slugify>=1.2.5 in /usr/local/lib/python3.6/dist-packages (from python-nvd3) (3.0.3)\n",
            "Requirement already satisfied: Jinja2>=2.8 in /usr/local/lib/python3.6/dist-packages (from python-nvd3) (2.10.1)\n",
            "Requirement already satisfied: text-unidecode==1.2 in /usr/local/lib/python3.6/dist-packages (from python-slugify>=1.2.5->python-nvd3) (1.2)\n",
            "Requirement already satisfied: MarkupSafe>=0.23 in /usr/local/lib/python3.6/dist-packages (from Jinja2>=2.8->python-nvd3) (1.1.1)\n"
          ],
          "name": "stdout"
        }
      ]
    },
    {
      "cell_type": "markdown",
      "metadata": {
        "id": "kSwGVKI3nUt4",
        "colab_type": "text"
      },
      "source": [
        "###Activar unidad de Drive"
      ]
    },
    {
      "cell_type": "code",
      "metadata": {
        "id": "olv_nuQ-nP0i",
        "colab_type": "code",
        "outputId": "c516fe53-5c18-4a68-9366-47062a8bff17",
        "colab": {
          "base_uri": "https://localhost:8080/",
          "height": 54
        }
      },
      "source": [
        "from google.colab import drive\n",
        "drive.mount('/content/drive')"
      ],
      "execution_count": 0,
      "outputs": [
        {
          "output_type": "stream",
          "text": [
            "Drive already mounted at /content/drive; to attempt to forcibly remount, call drive.mount(\"/content/drive\", force_remount=True).\n"
          ],
          "name": "stdout"
        }
      ]
    },
    {
      "cell_type": "markdown",
      "metadata": {
        "id": "UWlrnQ4AnFi4",
        "colab_type": "text"
      },
      "source": [
        "##Cargar el archivo con Python"
      ]
    },
    {
      "cell_type": "code",
      "metadata": {
        "id": "RqqrNtO4nKY8",
        "colab_type": "code",
        "colab": {}
      },
      "source": [
        "file_log = '/content/drive/My Drive/Big Data/Taller Python/access_log'\n",
        "\n",
        "def read_file(f):\n",
        "    with open(f, 'r') as f:\n",
        "        d = f.readlines()\n",
        "        return [x.strip() for x in d]\n",
        "    \n",
        "data = read_file(file_log)"
      ],
      "execution_count": 0,
      "outputs": []
    },
    {
      "cell_type": "markdown",
      "metadata": {
        "id": "rFVYSv-8pycf",
        "colab_type": "text"
      },
      "source": [
        "## Contamos las líneas que hay en el archivo"
      ]
    },
    {
      "cell_type": "code",
      "metadata": {
        "id": "DfPMzYO-p0NY",
        "colab_type": "code",
        "outputId": "8707a18d-405c-4e6a-b233-eb1f13b9eae3",
        "colab": {
          "base_uri": "https://localhost:8080/",
          "height": 51
        }
      },
      "source": [
        "print('Numero de lineas en el archivo \"' + file_log + '\":')\n",
        "print(len(data))"
      ],
      "execution_count": 0,
      "outputs": [
        {
          "output_type": "stream",
          "text": [
            "Numero de lineas en el archivo \"/content/drive/My Drive/Big Data/Taller Python/access_log\":\n",
            "1546\n"
          ],
          "name": "stdout"
        }
      ]
    },
    {
      "cell_type": "markdown",
      "metadata": {
        "id": "zPm28N4Tqn9U",
        "colab_type": "text"
      },
      "source": [
        "##Imprimir registros"
      ]
    },
    {
      "cell_type": "code",
      "metadata": {
        "id": "rQ4pMJfiqsHs",
        "colab_type": "code",
        "outputId": "ec9dee20-b09e-4a6d-84a8-6639037b48e7",
        "colab": {
          "base_uri": "https://localhost:8080/",
          "height": 207
        }
      },
      "source": [
        "data[:10]"
      ],
      "execution_count": 0,
      "outputs": [
        {
          "output_type": "execute_result",
          "data": {
            "text/plain": [
              "['64.242.88.10 - - [07/Mar/2004:16:05:49 -0800] \"GET /twiki/bin/edit/Main/Double_bounce_sender?topicparent=Main.ConfigurationVariables HTTP/1.1\" 401 12846',\n",
              " '64.242.88.10 - - [07/Mar/2004:16:06:51 -0800] \"GET /twiki/bin/rdiff/TWiki/NewUserTemplate?rev1=1.3&rev2=1.2 HTTP/1.1\" 200 4523',\n",
              " '64.242.88.10 - - [07/Mar/2004:16:10:02 -0800] \"GET /mailman/listinfo/hsdivision HTTP/1.1\" 200 6291',\n",
              " '64.242.88.10 - - [07/Mar/2004:16:11:58 -0800] \"GET /twiki/bin/view/TWiki/WikiSyntax HTTP/1.1\" 200 7352',\n",
              " '64.242.88.10 - - [07/Mar/2004:16:20:55 -0800] \"GET /twiki/bin/view/Main/DCCAndPostFix HTTP/1.1\" 200 5253',\n",
              " '64.242.88.10 - - [07/Mar/2004:16:23:12 -0800] \"GET /twiki/bin/oops/TWiki/AppendixFileSystem?template=oopsmore&param1=1.12&param2=1.12 HTTP/1.1\" 200 11382',\n",
              " '64.242.88.10 - - [07/Mar/2004:16:24:16 -0800] \"GET /twiki/bin/view/Main/PeterThoeny HTTP/1.1\" 200 4924',\n",
              " '64.242.88.10 - - [07/Mar/2004:16:29:16 -0800] \"GET /twiki/bin/edit/Main/Header_checks?topicparent=Main.ConfigurationVariables HTTP/1.1\" 401 12851',\n",
              " '64.242.88.10 - - [07/Mar/2004:16:30:29 -0800] \"GET /twiki/bin/attach/Main/OfficeLocations HTTP/1.1\" 401 12851',\n",
              " '64.242.88.10 - - [07/Mar/2004:16:31:48 -0800] \"GET /twiki/bin/view/TWiki/WebTopicEditTemplate HTTP/1.1\" 200 3732']"
            ]
          },
          "metadata": {
            "tags": []
          },
          "execution_count": 104
        }
      ]
    },
    {
      "cell_type": "markdown",
      "metadata": {
        "id": "eTVkai595_fU",
        "colab_type": "text"
      },
      "source": [
        "##Filtro por tipo de petición y status"
      ]
    },
    {
      "cell_type": "code",
      "metadata": {
        "id": "IbAMfkmIbKNC",
        "colab_type": "code",
        "colab": {}
      },
      "source": [
        "def filter_request(data_set, request_type, status):\n",
        "  result_list = []\n",
        "  for item in data_set:\n",
        "    chunks = item.split(' ')\n",
        "    if chunks[5][1:] == request_type and chunks[-2] == status:\n",
        "      result_list.append(item)\n",
        "  return result_list"
      ],
      "execution_count": 0,
      "outputs": []
    },
    {
      "cell_type": "markdown",
      "metadata": {
        "id": "rzZQs16oalil",
        "colab_type": "text"
      },
      "source": [
        "###Peticiones GET con status 200:"
      ]
    },
    {
      "cell_type": "code",
      "metadata": {
        "id": "nbms5OMb6f0e",
        "colab_type": "code",
        "outputId": "ef87588d-e9c7-4afb-b9ad-728d4f5554c8",
        "colab": {
          "base_uri": "https://localhost:8080/",
          "height": 34
        }
      },
      "source": [
        "  REQUEST_TYPE = 'GET'\n",
        "  STATUS = '200'\n",
        "  success_get = filter_request(data, REQUEST_TYPE, STATUS)   \n",
        "  print(f'Número de peticiones {REQUEST_TYPE} con status {STATUS} encontradas: {len(success_get)}')\n",
        "      \n"
      ],
      "execution_count": 0,
      "outputs": [
        {
          "output_type": "stream",
          "text": [
            "Número de peticiones GET con status 200 encontradas: 1254\n"
          ],
          "name": "stdout"
        }
      ]
    },
    {
      "cell_type": "markdown",
      "metadata": {
        "id": "-mRAVwhAa-vD",
        "colab_type": "text"
      },
      "source": [
        "###Peticiones GET con status 400:"
      ]
    },
    {
      "cell_type": "code",
      "metadata": {
        "id": "YT81V3qyCHDb",
        "colab_type": "code",
        "outputId": "67a772a7-e300-49bc-9e5d-504df5460564",
        "colab": {
          "base_uri": "https://localhost:8080/",
          "height": 34
        }
      },
      "source": [
        "REQUEST_TYPE = 'GET'\n",
        "STATUS = '401'\n",
        "failure_get = filter_request(data, REQUEST_TYPE, STATUS)   \n",
        "print(f'Número de peticiones {REQUEST_TYPE} con status {STATUS} encontradas: {len(failure_get)}')"
      ],
      "execution_count": 0,
      "outputs": [
        {
          "output_type": "stream",
          "text": [
            "Número de peticiones GET con status 401 encontradas: 123\n"
          ],
          "name": "stdout"
        }
      ]
    },
    {
      "cell_type": "markdown",
      "metadata": {
        "id": "z9bGzDbRcgfc",
        "colab_type": "text"
      },
      "source": [
        "##Agrupar peticiones por dominio"
      ]
    },
    {
      "cell_type": "code",
      "metadata": {
        "id": "s4zwEDs2kHTJ",
        "colab_type": "code",
        "colab": {}
      },
      "source": [
        "def sort_by_value(val):\n",
        "  return val[1]"
      ],
      "execution_count": 0,
      "outputs": []
    },
    {
      "cell_type": "code",
      "metadata": {
        "id": "Nb8T5AkQvPpH",
        "colab_type": "code",
        "colab": {}
      },
      "source": [
        "def list2mat(data_list):\n",
        "  return [chunk.split(' ') for chunk in data_list]"
      ],
      "execution_count": 0,
      "outputs": []
    },
    {
      "cell_type": "code",
      "metadata": {
        "id": "krdmpsduji5C",
        "colab_type": "code",
        "colab": {}
      },
      "source": [
        "def search_domain(source_list, domain_name):\n",
        "  for item in source_list:\n",
        "    if domain_name in item[0]:\n",
        "      return True\n",
        "  return False"
      ],
      "execution_count": 0,
      "outputs": []
    },
    {
      "cell_type": "code",
      "metadata": {
        "id": "SzxSPL3ff5oH",
        "colab_type": "code",
        "colab": {}
      },
      "source": [
        "def group_list_by_domain(data_list):\n",
        "  grouped_list = []\n",
        "  amount = 0\n",
        "  data_list = list2mat(data_list)\n",
        "  for item in data_list:\n",
        "    amount = 0\n",
        "    if not search_domain(grouped_list, item[0]):\n",
        "      for line in data_list:   \n",
        "        amount = amount + line.count(item[0])\n",
        "      grouped_list.append([item[0], amount])\n",
        "  return grouped_list\n",
        "    "
      ],
      "execution_count": 0,
      "outputs": []
    },
    {
      "cell_type": "markdown",
      "metadata": {
        "id": "hqjt3HcTqhvD",
        "colab_type": "text"
      },
      "source": [
        "###Peticiones exitosas agrupadas por dominio"
      ]
    },
    {
      "cell_type": "code",
      "metadata": {
        "id": "FBTAa2ngqWUu",
        "colab_type": "code",
        "outputId": "0cb0a2f5-891b-4a36-b8cd-824dac02df26",
        "colab": {
          "base_uri": "https://localhost:8080/",
          "height": 71
        }
      },
      "source": [
        "success_grouped_list = group_list_by_domain(success_get)\n",
        "success_grouped_list.sort(key = sort_by_value, reverse = True)\n",
        "print(f'El número de peticiones exitosas por domino es:\\n {success_grouped_list}')"
      ],
      "execution_count": 0,
      "outputs": [
        {
          "output_type": "stream",
          "text": [
            "El número de peticiones exitosas por domino es:\n",
            " [['64.242.88.10', 340], ['10.0.0.153', 182], ['cr020r01-3.sac.overture.com', 38], ['h24-70-69-74.ca.shawcable.net', 32], ['market-mail.panduit.com', 28], ['ts04-ip92.hevanet.com', 28], ['h24-71-236-129.ca.shawcable.net', 28], ['ip68-228-43-49.tc.ph.cox.net', 22], ['proxy0.haifa.ac.il', 19], ['212.92.37.62', 14], ['mail.geovariances.fr', 14], ['207.195.59.160', 14], ['ts05-ip44.hevanet.com', 14], ['prxint-sxb3.e-i.net', 13], ['lhr003a.dhl.com', 13], ['200-55-104-193.dsl.prima.net.ar', 13], ['203.147.138.233', 13], ['pc3-registry-stockholm.telia.net', 13], ['128.227.88.79', 12], ['216-160-111-121.tukw.qwest.net', 12], ['ns.wtbts.org', 12], ['p213.54.168.132.tisdip.tiscali.de', 11], ['195.246.13.119', 11], ['208-38-57-205.ip.cal.radiant.net', 11], ['ogw.netinfo.bg', 11], ['3_343_lt_someone', 10], ['cpe-203-51-137-224.vic.bigpond.net.au', 9], ['crawl24-public.alexa.com', 9], ['lj1024.inktomisearch.com', 8], ['2-110.cnc.bc.ca', 8], ['lj1036.inktomisearch.com', 7], ['fw1.millardref.com', 7], ['c-24-20-163-223.client.comcast.net', 7], ['mth-fgw.ballarat.edu.au', 7], ['h24-70-56-49.ca.shawcable.net', 6], ['jacksonproject.cnc.bc.ca', 6], ['1-729.cnc.bc.ca', 6], ['145.253.208.9', 6], ['pool-68-160-195-60.ny325.east.verizon.net', 5], ['user-0c8hdkf.cable.mindspring.com', 5], ['lj1048.inktomisearch.com', 5], ['65-37-13-251.nrp2.roc.ny.frontiernet.net', 5], ['dialup-5-81.tulane.edu', 5], ['ladybug.cns.vt.edu', 5], ['h24-71-249-14.ca.shawcable.net', 4], ['calcite.rhyolite.com', 4], ['mcl02.cnc.bc.ca', 4], ['spot.nnacorp.com', 4], ['barrie-ppp108371.sympatico.ca', 4], ['1-320.cnc.bc.ca', 4], ['trrc02m01-40.bctel.ca', 4], ['yongsan-cache.korea.army.mil', 4], ['80.58.14.235.proxycache.rima-tde.net', 4], ['lj1145.inktomisearch.com', 4], ['ic8234.upco.es', 4], ['194.151.73.43', 4], ['208.247.148.12', 4], ['61.165.64.6', 4], ['lj1125.inktomisearch.com', 3], ['d207-6-9-183.bchsia.telus.net', 3], ['mmscrm07-2.sac.overture.com', 3], ['dsl-80-43-113-44.access.uk.tiscali.com', 3], ['66-194-6-70.gen.twtelecom.net', 3], ['lj1117.inktomisearch.com', 3], ['ppp2.p33.is.com.ua', 3], ['h24-68-45-227.gv.shawcable.net', 3], ['ns3.vonroll.ch', 3], ['lj1008.inktomisearch.com', 3], ['wc09.mtnk.rnc.net.cable.rogers.com', 3], ['80.58.33.42.proxycache.rima-tde.net', 3], ['67.131.107.5', 3], ['200.160.249.68.bmf.com.br', 2], ['68-174-110-154.nyc.rr.com', 2], ['lj1027.inktomisearch.com', 2], ['92-moc-6.acn.waw.pl', 2], ['lj1156.inktomisearch.com', 2], ['lj1164.inktomisearch.com', 2], ['fw.aub.dk', 2], ['c-24-11-14-147.client.comcast.net', 2], ['acbf6930.ipt.aol.com', 2], ['lj1162.inktomisearch.com', 2], ['fw.kcm.org', 2], ['lj1123.inktomisearch.com', 2], ['grandpa.mmlc.northwestern.edu', 2], ['lj1153.inktomisearch.com', 2], ['adsl-157-26-153.msy.bellsouth.net', 2], ['66-194-6-79.gen.twtelecom.net', 2], ['142.27.64.35', 2], ['watchguard.cgmatane.qc.ca', 2], ['lj1073.inktomisearch.com', 2], ['spica.ukc.ac.uk', 2], ['208-186-146-13.nrp3.brv.mn.frontiernet.net', 2], ['0x503e4fce.virnxx2.adsl-dhcp.tele.dk', 2], ['archserve.id.ucsb.edu', 2], ['lj1223.inktomisearch.com', 2], ['lordgun.org', 1], ['lj1090.inktomisearch.com', 1], ['bh02i525f01.au.ibm.com', 1], ['lj1088.inktomisearch.com', 1], ['lj1089.inktomisearch.com', 1], ['lj1016.inktomisearch.com', 1], ['lj1025.inktomisearch.com', 1], ['prxint-sxb2.e-i.net', 1], ['rouble.cc.strath.ac.uk', 1], ['213.181.81.4', 1], ['lj1159.inktomisearch.com', 1], ['61.9.4.61', 1], ['p5083cd5d.dip0.t-ipconnect.de', 1], ['219.95.17.51', 1], ['66.213.206.2', 1], ['ip-200-56-225-61-mty.marcatel.net.mx', 1], ['lj1168.inktomisearch.com', 1], ['lj1018.inktomisearch.com', 1], ['px7wh.vc.shawcable.net', 1], ['lj1053.inktomisearch.com', 1], ['alille-251-1-2-197.w82-124.abo.wanadoo.fr', 1], ['a213-84-36-192.adsl.xs4all.nl', 1], ['lj1052.inktomisearch.com', 1], ['195.230.181.122', 1], ['lj1007.inktomisearch.com', 1], ['80.58.35.111.proxycache.rima-tde.net', 1], ['200.222.33.33', 1], ['l07v-1-17.d1.club-internet.fr', 1], ['wwwcache.lanl.gov', 1], ['lj1031.inktomisearch.com', 1], ['home.yeungs.net', 1], ['lj1061.inktomisearch.com', 1], ['korell2.cc.gatech.edu', 1], ['2-238.cnc.bc.ca', 1], ['lj1231.inktomisearch.com', 1], ['212.21.228.26', 1], ['pd9e761cf.dip.t-dialin.net', 1], ['nb-bolz.cremona.polimi.it', 1], ['pc-030-040.eco.rug.nl', 1], ['pd9e50809.dip.t-dialin.net', 1], ['cacher2-ext.wise.edt.ericsson.se', 1], ['adsl-64-173-42-65.dsl.snfc21.pacbell.net', 1], ['ns.mou.cz', 1], ['lj1216.inktomisearch.com', 1], ['c-411472d5.04-138-73746f22.cust.bredbandsbolaget.se', 1], ['lj1028.inktomisearch.com', 1], ['pntn02m05-129.bctel.ca', 1], ['lj1000.inktomisearch.com', 1], ['lj1220.inktomisearch.com', 1], ['lj1120.inktomisearch.com', 1], ['64-93-34-186.client.dsl.net', 1], ['d207-6-50-215.bchsia.telus.net', 1], ['4.37.97.186', 1], ['12.22.207.235', 1], ['lj1212.inktomisearch.com', 1], ['64-249-27-114.client.dsl.net', 1], ['pd9eb1396.dip.t-dialin.net', 1], ['lj1105.inktomisearch.com', 1], ['wc03.mtnk.rnc.net.cable.rogers.com', 1], ['ipcorp-c8b07af1.terraempresas.com.br', 1], ['66-194-6-71.gen.twtelecom.net', 1], ['195.11.231.210', 1], ['lj1115.inktomisearch.com', 1], ['vlp181.vlp.fi', 1], ['216.139.185.45', 1], ['pd95f99f2.dip.t-dialin.net', 1], ['d97082.upc-d.chello.nl', 1]]\n"
          ],
          "name": "stdout"
        }
      ]
    },
    {
      "cell_type": "markdown",
      "metadata": {
        "id": "6VQg091kVCMH",
        "colab_type": "text"
      },
      "source": [
        "###Gráfica"
      ]
    },
    {
      "cell_type": "code",
      "metadata": {
        "id": "OpHJkEEBVFwy",
        "colab_type": "code",
        "outputId": "ba041503-77da-4752-9dad-8c2a2f3113e1",
        "colab": {
          "base_uri": "https://localhost:8080/",
          "height": 268
        }
      },
      "source": [
        "labels = [item[0] for item in success_grouped_list if success_grouped_list.index(item) < 5]\n",
        "sections = [item[1] for item in success_grouped_list if success_grouped_list.index(item) < 5]\n",
        "\n",
        "\n",
        "plt.pie(sections, labels=labels, autopct = '%1.2f%%')\n",
        "plt.title('Peticiones exitosas por dominio')\n",
        "plt.show()"
      ],
      "execution_count": 0,
      "outputs": [
        {
          "output_type": "display_data",
          "data": {
            "image/png": "[encoded data removed]",
            "text/plain": [
              "<Figure size 432x288 with 1 Axes>"
            ]
          },
          "metadata": {
            "tags": []
          }
        }
      ]
    },
    {
      "cell_type": "markdown",
      "metadata": {
        "id": "CQ2d3tz0wp_Y",
        "colab_type": "text"
      },
      "source": [
        "###Peticiones fallidas agrupadas por dominio"
      ]
    },
    {
      "cell_type": "code",
      "metadata": {
        "id": "JkrT3-dwwsWZ",
        "colab_type": "code",
        "outputId": "3f7d7768-36ae-424b-d52f-3aade39d78fa",
        "colab": {
          "base_uri": "https://localhost:8080/",
          "height": 71
        }
      },
      "source": [
        "failure_grouped_list = group_list_by_domain(failure_get)\n",
        "failure_grouped_list.sort(key = sort_by_value, reverse = True)\n",
        "print(f'El número de peticiones fallidas por domino es:\\n {failure_grouped_list}')"
      ],
      "execution_count": 0,
      "outputs": [
        {
          "output_type": "stream",
          "text": [
            "El número de peticiones fallidas por domino es:\n",
            " [['64.242.88.10', 112], ['cr020r01-3.sac.overture.com', 6], ['prxint-sxb3.e-i.net', 1], ['p213.54.168.132.tisdip.tiscali.de', 1], ['market-mail.panduit.com', 1], ['195.246.13.119', 1], ['207.195.59.160', 1]]\n"
          ],
          "name": "stdout"
        }
      ]
    },
    {
      "cell_type": "markdown",
      "metadata": {
        "id": "f-vRXTbelhtC",
        "colab_type": "text"
      },
      "source": [
        "###Gráfica"
      ]
    },
    {
      "cell_type": "code",
      "metadata": {
        "id": "wBwwXnpxli8B",
        "colab_type": "code",
        "outputId": "bb82a2ef-b1ed-4887-b7ff-3b76a40538a7",
        "colab": {
          "base_uri": "https://localhost:8080/",
          "height": 268
        }
      },
      "source": [
        "labels = [item[0] for item in failure_grouped_list if failure_grouped_list.index(item) < 5]\n",
        "sections = [item[1] for item in failure_grouped_list if failure_grouped_list.index(item) < 5]\n",
        "\n",
        "\n",
        "plt.pie(sections, labels=labels, explode = (0.1, 0.4, 0.4, 0.4, 0.4), autopct = '%1.2f%%')\n",
        "plt.title('Peticiones exitosas por dominio')\n",
        "plt.show()"
      ],
      "execution_count": 0,
      "outputs": [
        {
          "output_type": "display_data",
          "data": {
            "image/png": "[encoded data removed]",
            "text/plain": [
              "<Figure size 432x288 with 1 Axes>"
            ]
          },
          "metadata": {
            "tags": []
          }
        }
      ]
    }
  ]
}